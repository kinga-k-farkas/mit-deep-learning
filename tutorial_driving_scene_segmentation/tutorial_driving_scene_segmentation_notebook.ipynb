{
 "cells": [
  {
   "cell_type": "code",
   "execution_count": null,
   "metadata": {
    "colab_type": "text",
    "id": "dvefM1LtKLST"
   },
   "outputs": [],
   "source": [
    "![MIT Deep Learning](https://deeplearning.mit.edu/files/images/github/mit_deep_learning.png)"
   ]
  },
  {
   "cell_type": "markdown",
   "metadata": {
    "colab_type": "text",
    "id": "Mv9KQHwAKLSV"
   },
   "source": [
    "<table align=\"center\">\n",
    "  <td align=\"center\"><a target=\"_blank\" href=\"https://deeplearning.mit.edu\">\n",
    "        <img src=\"https://deeplearning.mit.edu/files/images/github/icon_mit.png\" style=\"height:40px; padding-bottom:5px;\" />\n",
    "      Visit MIT Deep Learning</a></td>\n",
    "  <td align=\"center\"><a target=\"_blank\" href=\"https://colab.research.google.com/github/lexfridman/mit-deep-learning/blob/master/tutorial_driving_scene_segmentation/tutorial_driving_scene_segmentation.ipynb\">\n",
    "        <img src=\"https://deeplearning.mit.edu/files/images/github/icon_google_colab.png\" style=\"height:40px; padding-bottom:5px;\" />Run in Google Colab</a></td>\n",
    "  <td align=\"center\"><a target=\"_blank\" href=\"https://github.com/lexfridman/mit-deep-learning/blob/master/tutorial_driving_scene_segmentation/tutorial_driving_scene_segmentation.ipynb\">\n",
    "        <img src=\"https://deeplearning.mit.edu/files/images/github/icon_github.png\" style=\"height:40px; padding-bottom:5px;\"  />View Source on GitHub</a></td>\n",
    "  <td align=\"center\"><a target=\"_blank\" href=\"https://www.youtube.com/playlist?list=PLrAXtmErZgOeiKm4sgNOknGvNjby9efdf\">\n",
    "        <img src=\"https://deeplearning.mit.edu/files/images/github/icon_youtube.png\" style=\"height:40px; padding-bottom:5px;\" />Watch Videos</a></td>\n",
    "<!--   <td><a target=\"_blank\" href=\"link\">\n",
    "        <img src=\"image\" />text</a></td> -->\n",
    "</table>"
   ]
  },
  {
   "cell_type": "markdown",
   "metadata": {
    "colab_type": "text",
    "id": "KFPcBuVFw61h"
   },
   "source": [
    "# MIT Driving Scene Segmentation\n",
    "\n",
    "This tutorial demostrates the steps to run DeepLab semantic scene segmentation model on a sample video from MIT Driving Scene Segmentation Dataset."
   ]
  },
  {
   "cell_type": "code",
   "execution_count": null,
   "metadata": {
    "cellView": "code",
    "colab": {
     "base_uri": "https://localhost:8080/",
     "height": 35.0
    },
    "colab_type": "code",
    "id": "kAbdmRmvq0Je",
    "outputId": "f82ca270-f776-41b7-c542-dbf02116015c"
   },
   "outputs": [],
   "source": [
    "# Tensorflow\n",
    "import tensorflow as tf\n",
    "print(tf.__version__)\n",
    "\n",
    "# I/O libraries\n",
    "import os\n",
    "from io import BytesIO\n",
    "import tarfile\n",
    "import tempfile\n",
    "from six.moves import urllib\n",
    "\n",
    "# Helper libraries\n",
    "import matplotlib\n",
    "from matplotlib import gridspec\n",
    "from matplotlib import pyplot as plt\n",
    "import numpy as np\n",
    "from PIL import Image\n",
    "import cv2 as cv\n",
    "from tqdm import tqdm\n",
    "import IPython\n",
    "from sklearn.metrics import confusion_matrix\n",
    "from tabulate import tabulate\n",
    "\n",
    "# Comment this out if you want to see Deprecation warnings\n",
    "import warnings\n",
    "warnings.simplefilter(\"ignore\", DeprecationWarning)"
   ]
  },
  {
   "cell_type": "markdown",
   "metadata": {
    "colab_type": "text",
    "id": "OQ4WfdFGKLSc"
   },
   "source": [
    "### Build the model\n",
    "\n",
    "**[DeepLab](https://github.com/tensorflow/models/tree/master/research/deeplab)** is a state-of-art deep learning model for semantic image segmentation, where the goal is to assign semantic labels (e.g., person, dog, cat and so on) to every pixel in the input image. Some segmentation results on Flickr images:\n",
    "\n",
    "<p align=\"center\">\n",
    "    <img src=\"https://github.com/tensorflow/models/blob/master/research/deeplab/g3doc/img/vis1.png?raw=true\" width=600></br>\n",
    "    <img src=\"https://github.com/tensorflow/models/blob/master/research/deeplab/g3doc/img/vis2.png?raw=true\" width=600></br>\n",
    "</p>\n",
    "\n",
    "In the driving context, we aim to obtain a semantic understanding of the front driving scene throught the camera input. This is important for driving safety and an essential requirement for all levels of autonomous driving. The first step is to build the model and load the pre-trained weights. In this demo, we use the model checkpoint trained on [Cityscapes](https://www.cityscapes-dataset.com/) dataset.\n",
    "\n",
    "<p align=\"center\">\n",
    "    <img src=\"https://www.cityscapes-dataset.com/wordpress/wp-content/uploads/2015/07/muenster00.png\" width=600></br>\n",
    "    <img src=\"https://www.cityscapes-dataset.com/wordpress/wp-content/uploads/2015/07/zuerich00.png\" width=600></br>\n",
    "</p>\n"
   ]
  },
  {
   "cell_type": "code",
   "execution_count": null,
   "metadata": {
    "colab": {},
    "colab_type": "code",
    "id": "ixa_Cty2KLSc"
   },
   "outputs": [],
   "source": [
    "class DeepLabModel(object):\n",
    "    \"\"\"Class to load deeplab model and run inference.\"\"\"\n",
    "\n",
    "    FROZEN_GRAPH_NAME = 'frozen_inference_graph'\n",
    "\n",
    "    def __init__(self, tarball_path):\n",
    "        \"\"\"Creates and loads pretrained deeplab model.\"\"\"\n",
    "        self.graph = tf.Graph()\n",
    "        graph_def = None\n",
    "\n",
    "        # Extract frozen graph from tar archive.\n",
    "        tar_file = tarfile.open(tarball_path)\n",
    "        for tar_info in tar_file.getmembers():\n",
    "            if self.FROZEN_GRAPH_NAME in os.path.basename(tar_info.name):\n",
    "                file_handle = tar_file.extractfile(tar_info)\n",
    "                graph_def = tf.GraphDef.FromString(file_handle.read())\n",
    "                break\n",
    "        tar_file.close()\n",
    "\n",
    "        if graph_def is None:\n",
    "            raise RuntimeError('Cannot find inference graph in tar archive.')\n",
    "\n",
    "        with self.graph.as_default():\n",
    "            tf.import_graph_def(graph_def, name='')\n",
    "        self.sess = tf.Session(graph=self.graph)\n",
    "\n",
    "    def run(self, image, INPUT_TENSOR_NAME = 'ImageTensor:0', OUTPUT_TENSOR_NAME = 'SemanticPredictions:0'):\n",
    "        \"\"\"Runs inference on a single image.\n",
    "\n",
    "        Args:\n",
    "            image: A PIL.Image object, raw input image.\n",
    "            INPUT_TENSOR_NAME: The name of input tensor, default to ImageTensor.\n",
    "            OUTPUT_TENSOR_NAME: The name of output tensor, default to SemanticPredictions.\n",
    "\n",
    "        Returns:\n",
    "            resized_image: RGB image resized from original input image.\n",
    "            seg_map: Segmentation map of `resized_image`.\n",
    "        \"\"\"\n",
    "        width, height = image.size\n",
    "        target_size = (2049,1025)  # size of Cityscapes images\n",
    "        resized_image = image.convert('RGB').resize(target_size, Image.ANTIALIAS)\n",
    "        batch_seg_map = self.sess.run(\n",
    "            OUTPUT_TENSOR_NAME,\n",
    "            feed_dict={INPUT_TENSOR_NAME: [np.asarray(resized_image)]})\n",
    "        seg_map = batch_seg_map[0]  # expected batch size = 1\n",
    "        if len(seg_map.shape) == 2:\n",
    "            seg_map = np.expand_dims(seg_map,-1)  # need an extra dimension for cv.resize\n",
    "        seg_map = cv.resize(seg_map, (width,height), interpolation=cv.INTER_NEAREST)\n",
    "        return seg_map"
   ]
  },
  {
   "cell_type": "markdown",
   "metadata": {
    "colab_type": "text",
    "id": "q0QhB_7SKLSf"
   },
   "source": [
    "### Visualization\n",
    "Now let's create some helper functions for decoding and visualizing the results."
   ]
  },
  {
   "cell_type": "code",
   "execution_count": null,
   "metadata": {
    "cellView": "code",
    "colab": {},
    "colab_type": "code",
    "id": "vN0kU6NJ1Ye5"
   },
   "outputs": [],
   "source": [
    "def create_label_colormap():\n",
    "    \"\"\"Creates a label colormap used in Cityscapes segmentation benchmark.\n",
    "\n",
    "    Returns:\n",
    "        A Colormap for visualizing segmentation results.\n",
    "    \"\"\"\n",
    "    colormap = np.array([\n",
    "        [128,  64, 128],\n",
    "        [244,  35, 232],\n",
    "        [ 70,  70,  70],\n",
    "        [102, 102, 156],\n",
    "        [190, 153, 153],\n",
    "        [153, 153, 153],\n",
    "        [250, 170,  30],\n",
    "        [220, 220,   0],\n",
    "        [107, 142,  35],\n",
    "        [152, 251, 152],\n",
    "        [ 70, 130, 180],\n",
    "        [220,  20,  60],\n",
    "        [255,   0,   0],\n",
    "        [  0,   0, 142],\n",
    "        [  0,   0,  70],\n",
    "        [  0,  60, 100],\n",
    "        [  0,  80, 100],\n",
    "        [  0,   0, 230],\n",
    "        [119,  11,  32],\n",
    "        [  0,   0,   0]], dtype=np.uint8)\n",
    "    return colormap\n",
    "\n",
    "\n",
    "def label_to_color_image(label):\n",
    "    \"\"\"Adds color defined by the dataset colormap to the label.\n",
    "\n",
    "    Args:\n",
    "        label: A 2D array with integer type, storing the segmentation label.\n",
    "\n",
    "    Returns:\n",
    "        result: A 2D array with floating type. The element of the array\n",
    "            is the color indexed by the corresponding element in the input label\n",
    "            to the PASCAL color map.\n",
    "\n",
    "    Raises:\n",
    "        ValueError: If label is not of rank 2 or its value is larger than color\n",
    "            map maximum entry.\n",
    "    \"\"\"\n",
    "    if label.ndim != 2:\n",
    "        raise ValueError('Expect 2-D input label')\n",
    "\n",
    "    colormap = create_label_colormap()\n",
    "\n",
    "    if np.max(label) >= len(colormap):\n",
    "        raise ValueError('label value too large.')\n",
    "\n",
    "    return colormap[label]\n",
    "\n",
    "\n",
    "def vis_segmentation(image, seg_map):\n",
    "    \"\"\"Visualizes input image, segmentation map and overlay view.\"\"\"\n",
    "    plt.figure(figsize=(20, 4))\n",
    "    grid_spec = gridspec.GridSpec(1, 4, width_ratios=[6, 6, 6, 1])\n",
    "\n",
    "    plt.subplot(grid_spec[0])\n",
    "    plt.imshow(image)\n",
    "    plt.axis('off')\n",
    "    plt.title('input image')\n",
    "\n",
    "    plt.subplot(grid_spec[1])\n",
    "    seg_image = label_to_color_image(seg_map).astype(np.uint8)\n",
    "    plt.imshow(seg_image)\n",
    "    plt.axis('off')\n",
    "    plt.title('segmentation map')\n",
    "\n",
    "    plt.subplot(grid_spec[2])\n",
    "    plt.imshow(image)\n",
    "    plt.imshow(seg_image, alpha=0.7)\n",
    "    plt.axis('off')\n",
    "    plt.title('segmentation overlay')\n",
    "\n",
    "    unique_labels = np.unique(seg_map)\n",
    "    ax = plt.subplot(grid_spec[3])\n",
    "    plt.imshow(FULL_COLOR_MAP[unique_labels].astype(np.uint8), interpolation='nearest')\n",
    "    ax.yaxis.tick_right()\n",
    "    plt.yticks(range(len(unique_labels)), LABEL_NAMES[unique_labels])\n",
    "    plt.xticks([], [])\n",
    "    ax.tick_params(width=0.0)\n",
    "    plt.grid('off')\n",
    "    plt.show()\n",
    "\n",
    "\n",
    "LABEL_NAMES = np.asarray([\n",
    "    'road', 'sidewalk', 'building', 'wall', 'fence', 'pole', 'traffic light',\n",
    "    'traffic sign', 'vegetation', 'terrain', 'sky', 'person', 'rider', 'car', 'truck',\n",
    "    'bus', 'train', 'motorcycle', 'bicycle', 'void'])\n",
    "\n",
    "FULL_LABEL_MAP = np.arange(len(LABEL_NAMES)).reshape(len(LABEL_NAMES), 1)\n",
    "FULL_COLOR_MAP = label_to_color_image(FULL_LABEL_MAP)"
   ]
  },
  {
   "cell_type": "markdown",
   "metadata": {
    "colab_type": "text",
    "id": "pzxbIveNKLSi"
   },
   "source": [
    "### Load the model from a frozen graph\n",
    "There are two model checkpoints pre-trained on Cityscapes with different network backbones: MobileNetV2 and Xception65. We default to use MobileNetV2 for faster inference."
   ]
  },
  {
   "cell_type": "code",
   "execution_count": null,
   "metadata": {
    "colab": {
     "base_uri": "https://localhost:8080/",
     "height": 70.0
    },
    "colab_type": "code",
    "id": "c4oXKmnjw6i_",
    "outputId": "19f93d51-1e69-4b7d-b9b5-16affad308b2"
   },
   "outputs": [],
   "source": [
    "MODEL_NAME = 'mobilenetv2_coco_cityscapes_trainfine'\n",
    "#MODEL_NAME = 'xception65_cityscapes_trainfine'\n",
    "\n",
    "_DOWNLOAD_URL_PREFIX = 'http://download.tensorflow.org/models/'\n",
    "_MODEL_URLS = {\n",
    "    'mobilenetv2_coco_cityscapes_trainfine':\n",
    "        'deeplabv3_mnv2_cityscapes_train_2018_02_05.tar.gz',\n",
    "    'xception65_cityscapes_trainfine':\n",
    "        'deeplabv3_cityscapes_train_2018_02_06.tar.gz',\n",
    "}\n",
    "_TARBALL_NAME = 'deeplab_model.tar.gz'\n",
    "\n",
    "model_dir = tempfile.mkdtemp()\n",
    "tf.gfile.MakeDirs(model_dir)\n",
    "\n",
    "download_path = os.path.join(model_dir, _TARBALL_NAME)\n",
    "print('downloading model, this might take a while...')\n",
    "urllib.request.urlretrieve(_DOWNLOAD_URL_PREFIX + _MODEL_URLS[MODEL_NAME], download_path)\n",
    "print('download completed! loading DeepLab model...')\n",
    "\n",
    "MODEL = DeepLabModel(download_path)\n",
    "print('model loaded successfully!')"
   ]
  },
  {
   "cell_type": "markdown",
   "metadata": {
    "colab_type": "text",
    "id": "SZst78N-4OKO"
   },
   "source": [
    "### Run on the sample image\n",
    "The sample image is frame #0 in the MIT Driving Scene Segmentation (DriveSeg) Dataset."
   ]
  },
  {
   "cell_type": "code",
   "execution_count": null,
   "metadata": {
    "colab": {
     "base_uri": "https://localhost:8080/",
     "height": 304.0
    },
    "colab_type": "code",
    "id": "edGukUHXyymr",
    "outputId": "68858de4-7d6f-464c-bfed-b576a2843ea3"
   },
   "outputs": [],
   "source": [
    "SAMPLE_IMAGE = 'mit_driveseg_sample.png'\n",
    "if not os.path.isfile(SAMPLE_IMAGE):\n",
    "    print('downloading the sample image...')\n",
    "    SAMPLE_IMAGE = urllib.request.urlretrieve('https://github.com/lexfridman/mit-deep-learning/blob/master/tutorial_driving_scene_segmentation/mit_driveseg_sample.png?raw=true')[0]\n",
    "print('running deeplab on the sample image...')\n",
    "\n",
    "def run_visualization(SAMPLE_IMAGE):\n",
    "    \"\"\"Inferences DeepLab model and visualizes result.\"\"\"\n",
    "    original_im = Image.open(SAMPLE_IMAGE)\n",
    "    seg_map = MODEL.run(original_im)\n",
    "    vis_segmentation(original_im, seg_map)\n",
    "\n",
    "run_visualization(SAMPLE_IMAGE)"
   ]
  },
  {
   "cell_type": "markdown",
   "metadata": {
    "colab_type": "text",
    "id": "mnrA2FABKLSp"
   },
   "source": [
    "### Run on the sample video\n",
    "The sample video is frame #0 to #597 in the MIT DriveSeg Dataset."
   ]
  },
  {
   "cell_type": "code",
   "execution_count": null,
   "metadata": {
    "colab": {
     "base_uri": "https://localhost:8080/",
     "height": 521.0
    },
    "colab_type": "code",
    "id": "oXTrq3DgKLSp",
    "outputId": "de91e86a-1b2a-43d9-cd3d-42a0bd92320b"
   },
   "outputs": [],
   "source": [
    "def vis_segmentation_stream(image, seg_map, index):\n",
    "    \"\"\"Visualizes segmentation overlay view and stream it with IPython display.\"\"\"\n",
    "    plt.figure(figsize=(12, 7))\n",
    "\n",
    "    seg_image = label_to_color_image(seg_map).astype(np.uint8)\n",
    "    plt.imshow(image)\n",
    "    plt.imshow(seg_image, alpha=0.7)\n",
    "    plt.axis('off')\n",
    "    plt.title('segmentation overlay | frame #%d'%index)\n",
    "    plt.grid('off')\n",
    "    plt.tight_layout()\n",
    "\n",
    "    # Show visualization in a streaming fashion.\n",
    "    f = BytesIO()\n",
    "    plt.savefig(f, format='jpeg')\n",
    "    IPython.display.display(IPython.display.Image(data=f.getvalue()))\n",
    "    f.close()\n",
    "    plt.close()\n",
    "\n",
    "\n",
    "def run_visualization_video(frame, index):\n",
    "    \"\"\"Inferences DeepLab model on a video file and stream the visualization.\"\"\"\n",
    "    original_im = Image.fromarray(frame[..., ::-1])\n",
    "    seg_map = MODEL.run(original_im)\n",
    "    vis_segmentation_stream(original_im, seg_map, index)\n",
    "\n",
    "\n",
    "SAMPLE_VIDEO = 'mit_driveseg_sample.mp4'\n",
    "if not os.path.isfile(SAMPLE_VIDEO): \n",
    "    print('downloading the sample video...')\n",
    "    SAMPLE_VIDEO = urllib.request.urlretrieve('https://github.com/lexfridman/mit-deep-learning/raw/master/tutorial_driving_scene_segmentation/mit_driveseg_sample.mp4')[0]\n",
    "print('running deeplab on the sample video...')\n",
    "\n",
    "video = cv.VideoCapture(SAMPLE_VIDEO)\n",
    "# num_frames = 598  # uncomment to use the full sample video\n",
    "num_frames = 30\n",
    "\n",
    "try:\n",
    "    for i in range(num_frames):\n",
    "        _, frame = video.read()\n",
    "        if not _: break\n",
    "        run_visualization_video(frame, i)\n",
    "        IPython.display.clear_output(wait=True)\n",
    "except KeyboardInterrupt:\n",
    "    plt.close()\n",
    "    print(\"Stream stopped.\")"
   ]
  },
  {
   "cell_type": "markdown",
   "metadata": {
    "colab_type": "text",
    "id": "o_FjC5CNKLSr"
   },
   "source": [
    "### Evaluation\n",
    "Now let's evaluate the model performance with the ground truth annotation. First read the annotation from a tar file."
   ]
  },
  {
   "cell_type": "code",
   "execution_count": null,
   "metadata": {
    "colab": {
     "base_uri": "https://localhost:8080/",
     "height": 304.0
    },
    "colab_type": "code",
    "id": "yIxt5IvCKLSr",
    "outputId": "ffec8782-d7c7-4370-975f-dec9e4e0f86e"
   },
   "outputs": [],
   "source": [
    "class DriveSeg(object):\n",
    "    \"\"\"Class to load MIT DriveSeg Dataset.\"\"\"\n",
    "\n",
    "    def __init__(self, tarball_path):\n",
    "        self.tar_file = tarfile.open(tarball_path)\n",
    "        self.tar_info = self.tar_file.getmembers()\n",
    "    \n",
    "    def fetch(self, index):\n",
    "        \"\"\"Get ground truth by index.\n",
    "\n",
    "        Args:\n",
    "            index: The frame number.\n",
    "\n",
    "        Returns:\n",
    "            gt: Ground truth segmentation map.\n",
    "        \"\"\"\n",
    "        tar_info = self.tar_info[index + 1]  # exclude index 0 which is the parent directory\n",
    "        file_handle = self.tar_file.extractfile(tar_info)\n",
    "        gt = np.fromstring(file_handle.read(), np.uint8)\n",
    "        gt = cv.imdecode(gt, cv.IMREAD_COLOR)\n",
    "        gt = gt[:, :, 0]  # select a single channel from the 3-channel image\n",
    "        gt[gt==255] = 19  # void class, does not count for accuracy\n",
    "        return gt\n",
    "\n",
    "\n",
    "SAMPLE_GT = 'mit_driveseg_sample_gt.tar.gz'\n",
    "if not os.path.isfile(SAMPLE_GT): \n",
    "    print('downloading the sample ground truth...')\n",
    "    SAMPLE_GT = urllib.request.urlretrieve('https://github.com/lexfridman/mit-deep-learning/raw/master/tutorial_driving_scene_segmentation/mit_driveseg_sample_gt.tar.gz')[0]\n",
    "\n",
    "dataset = DriveSeg(SAMPLE_GT)\n",
    "print('visualizing ground truth annotation on the sample image...')\n",
    "\n",
    "original_im = Image.open(SAMPLE_IMAGE)\n",
    "gt = dataset.fetch(0)  # sample image is frame 0\n",
    "vis_segmentation(original_im, gt)"
   ]
  },
  {
   "cell_type": "markdown",
   "metadata": {
    "colab_type": "text",
    "id": "PaDegfu-KLSu"
   },
   "source": [
    "### Evaluate on the sample image\n",
    "There are many ways to measure the performance of a segmentation model. The most straight forward one is pixel accuracy, which calculates how many pixels are correctly predicted. Another commonly used one is the standard Jaccard Index (intersection-over-union) as IoU = TP ⁄ (TP+FP+FN), where TP, FP, and FN are the numbers of true positive, false positive, and false negative pixels, respectively."
   ]
  },
  {
   "cell_type": "code",
   "execution_count": null,
   "metadata": {
    "colab": {
     "base_uri": "https://localhost:8080/",
     "height": 141.0
    },
    "colab_type": "code",
    "id": "c2E4PMGRKLSu",
    "outputId": "9ac55399-1490-4d25-be56-267a0457739a"
   },
   "outputs": [],
   "source": [
    "def evaluate_single(seg_map, ground_truth):\n",
    "    \"\"\"Evaluate a single frame with the MODEL loaded.\"\"\"    \n",
    "    # merge label due to different annotation scheme\n",
    "    seg_map[np.logical_or(seg_map==14,seg_map==15)] = 13\n",
    "    seg_map[np.logical_or(seg_map==3,seg_map==4)] = 2\n",
    "    seg_map[seg_map==12] = 11\n",
    "\n",
    "    # calculate accuracy on valid area\n",
    "    acc = np.sum(seg_map[ground_truth!=19]==ground_truth[ground_truth!=19])/np.sum(ground_truth!=19)\n",
    "    \n",
    "    # select valid labels for evaluation\n",
    "    cm = confusion_matrix(ground_truth[ground_truth!=19], seg_map[ground_truth!=19], \n",
    "                          labels=np.array([0,1,2,5,6,7,8,9,11,13]))\n",
    "    intersection = np.diag(cm)\n",
    "    union = np.sum(cm, 0) + np.sum(cm, 1) - np.diag(cm)\n",
    "    return acc, intersection, union\n",
    "\n",
    "\n",
    "print('evaluating on the sample image...')\n",
    "\n",
    "original_im = Image.open(SAMPLE_IMAGE)\n",
    "seg_map = MODEL.run(original_im)\n",
    "gt = dataset.fetch(0)  # sample image is frame 0\n",
    "acc, intersection, union = evaluate_single(seg_map, gt)\n",
    "class_iou = np.round(intersection / union, 5)\n",
    "print('pixel accuracy: %.5f'%acc)\n",
    "print('mean class IoU:', np.mean(class_iou))\n",
    "print('class IoU:')\n",
    "print(tabulate([class_iou], headers=LABEL_NAMES[[0,1,2,5,6,7,8,9,11,13]]))"
   ]
  },
  {
   "cell_type": "markdown",
   "metadata": {
    "colab_type": "text",
    "id": "dN_NN_KVKLSw"
   },
   "source": [
    "### Evaluate on the sample video"
   ]
  },
  {
   "cell_type": "code",
   "execution_count": null,
   "metadata": {
    "colab": {
     "base_uri": "https://localhost:8080/",
     "height": 159.0
    },
    "colab_type": "code",
    "id": "YXqR6Vv7KLSw",
    "outputId": "9bd3a60e-164a-4d43-a258-718e8b8e176e"
   },
   "outputs": [],
   "source": [
    "print('evaluating on the sample video...', flush=True)\n",
    "\n",
    "video = cv.VideoCapture(SAMPLE_VIDEO)\n",
    "# num_frames = 598  # uncomment to use the full sample video\n",
    "num_frames = 30\n",
    "\n",
    "acc = []\n",
    "intersection = []\n",
    "union = []\n",
    "\n",
    "for i in tqdm(range(num_frames)):\n",
    "    _, frame = video.read()\n",
    "    original_im = Image.fromarray(frame[..., ::-1])\n",
    "    seg_map = MODEL.run(original_im)\n",
    "    gt = dataset.fetch(i)\n",
    "    _acc, _intersection, _union = evaluate_single(seg_map, gt)\n",
    "    intersection.append(_intersection)\n",
    "    union.append(_union)\n",
    "    acc.append(_acc)\n",
    "\n",
    "class_iou = np.round(np.sum(intersection, 0) / np.sum(union, 0), 4)\n",
    "print('pixel accuracy: %.4f'%np.mean(acc))\n",
    "print('mean class IoU: %.4f'%np.mean(class_iou))\n",
    "print('class IoU:')\n",
    "print(tabulate([class_iou], headers=LABEL_NAMES[[0,1,2,5,6,7,8,9,11,13]]))"
   ]
  },
  {
   "cell_type": "markdown",
   "metadata": {
    "colab_type": "text",
    "id": "qbiDYrpCKLSy"
   },
   "source": [
    "### Optional: leverage temporal information\n",
    "One thing makes video scene segmentation different from image segmentation is the availability of previous frames, which contains valuable temporal information that may help with perception. The open question is how can we use such temporal information. Let's try conbine the prediction of two frames instead of only one frame, making smoother predictions over time."
   ]
  },
  {
   "cell_type": "code",
   "execution_count": null,
   "metadata": {
    "colab": {
     "base_uri": "https://localhost:8080/",
     "height": 159.0
    },
    "colab_type": "code",
    "id": "3CstN0dKKLS0",
    "outputId": "af17a11a-09ac-4f16-b75d-8aa8c65f25f4"
   },
   "outputs": [],
   "source": [
    "print('evaluating on the sample video with temporal smoothing...', flush=True)\n",
    "\n",
    "video = cv.VideoCapture(SAMPLE_VIDEO)\n",
    "# num_frames = 598  # uncomment to use the full sample video\n",
    "num_frames = 30\n",
    "\n",
    "acc = []\n",
    "intersection = []\n",
    "union = []\n",
    "prev_seg_map_logits = 0\n",
    "\n",
    "for i in tqdm(range(num_frames)):\n",
    "    _, frame = video.read()\n",
    "    original_im = Image.fromarray(frame[..., ::-1])\n",
    "    \n",
    "    # Get the logits instead of label prediction\n",
    "    seg_map_logits = MODEL.run(original_im, OUTPUT_TENSOR_NAME='ResizeBilinear_3:0')\n",
    "    \n",
    "    # Add previous frame's logits and get the results\n",
    "    seg_map = np.argmax(seg_map_logits + prev_seg_map_logits, -1)\n",
    "    prev_seg_map_logits = seg_map_logits\n",
    "    \n",
    "    gt = dataset.fetch(i)\n",
    "    _acc, _intersection, _union = evaluate_single(seg_map, gt)\n",
    "    intersection.append(_intersection)\n",
    "    union.append(_union)\n",
    "    acc.append(_acc)\n",
    "    \n",
    "class_iou = np.round(np.sum(intersection, 0) / np.sum(union, 0), 4)\n",
    "print('pixel accuracy: %.4f'%np.mean(acc))\n",
    "print('mean class IoU: %.4f'%np.mean(class_iou))\n",
    "print('class IoU:')\n",
    "print(tabulate([class_iou], headers=LABEL_NAMES[[0,1,2,5,6,7,8,9,11,13]]))"
   ]
  },
  {
   "cell_type": "markdown",
   "metadata": {
    "colab_type": "text",
    "id": "s9ReH8nAKLS2"
   },
   "source": [
    "Can you make it better?"
   ]
  },
  {
   "cell_type": "markdown",
   "metadata": {
    "colab_type": "text",
    "id": "mAUptUM1KLS2"
   },
   "source": [
    "## Acknowledgements\n",
    "\n",
    "The contents of this tutorial is based on and inspired by the work of [TensorFlow team](https://www.tensorflow.org), our [MIT Human-Centered AI team](https://hcai.mit.edu), and individual pieces referenced in the [MIT Deep Learning](https://deeplearning.mit.edu) course slides."
   ]
  }
 ],
 "metadata": {
  "jupytext": {
   "text_representation": {
    "extension": ".py",
    "format_name": "percent",
    "format_version": "1.2",
    "jupytext_version": "0.8.6"
   }
  },
  "kernelspec": {
   "display_name": "Python 3",
   "language": "python",
   "name": "python3"
  }
 },
 "nbformat": 4,
 "nbformat_minor": 2
}
